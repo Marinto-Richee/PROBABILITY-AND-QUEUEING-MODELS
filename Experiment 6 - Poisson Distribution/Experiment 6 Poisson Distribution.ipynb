{
 "cells": [
  {
   "cell_type": "code",
   "execution_count": 1,
   "id": "7b5bcb32",
   "metadata": {},
   "outputs": [],
   "source": [
    "import numpy as np\n",
    "import math\n",
    "lambda_=3\n",
    "time_interval=2"
   ]
  },
  {
   "cell_type": "code",
   "execution_count": 2,
   "id": "296c51f5",
   "metadata": {},
   "outputs": [],
   "source": [
    "def pd(x):\n",
    "    return (math.exp(-(lambda_*time_interval))*(lambda_*time_interval)**x)/(math.factorial(x))"
   ]
  },
  {
   "cell_type": "code",
   "execution_count": 3,
   "id": "493ddb89",
   "metadata": {},
   "outputs": [
    {
     "name": "stdout",
     "output_type": "stream",
     "text": [
      "The Probability that exactly 4 customers is 0.1339\n"
     ]
    }
   ],
   "source": [
    "print(\"The Probability that exactly 4 customers is {0:0.4f}\".format(pd(4)))"
   ]
  },
  {
   "cell_type": "code",
   "execution_count": 4,
   "id": "440c2bde",
   "metadata": {},
   "outputs": [
    {
     "name": "stdout",
     "output_type": "stream",
     "text": [
      "The Probability that more than 4 customers is 0.7149\n"
     ]
    }
   ],
   "source": [
    "p_4=[pd(i) for i in range(0,5)]\n",
    "print(\"The Probability that more than 4 customers is {0:0.4f}\".format(1-sum(p_4)))"
   ]
  },
  {
   "cell_type": "code",
   "execution_count": 5,
   "id": "9dde782a",
   "metadata": {},
   "outputs": [
    {
     "name": "stdout",
     "output_type": "stream",
     "text": [
      "The Probability that less than 4 customers is 0.1512\n"
     ]
    }
   ],
   "source": [
    "p_4=[pd(i) for i in range(0,4)]\n",
    "print(\"The Probability that less than 4 customers is {0:0.4f}\".format(sum(p_4)))"
   ]
  }
 ],
 "metadata": {
  "kernelspec": {
   "display_name": "Python 3 (ipykernel)",
   "language": "python",
   "name": "python3"
  },
  "language_info": {
   "codemirror_mode": {
    "name": "ipython",
    "version": 3
   },
   "file_extension": ".py",
   "mimetype": "text/x-python",
   "name": "python",
   "nbconvert_exporter": "python",
   "pygments_lexer": "ipython3",
   "version": "3.9.7"
  }
 },
 "nbformat": 4,
 "nbformat_minor": 5
}
